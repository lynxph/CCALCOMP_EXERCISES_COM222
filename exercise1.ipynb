{
  "cells": [
    {
      "cell_type": "markdown",
      "metadata": {
        "id": "3-prKGbfwFRd"
      },
      "source": [
        "# Exercise 1"
      ]
    },
    {
      "cell_type": "markdown",
      "metadata": {
        "id": "kBW-_z9HwFRf"
      },
      "source": [
        "Please follow the instructions in each number. Do not remove or modify the pre-defined code!"
      ]
    },
    {
      "cell_type": "code",
      "execution_count": 14,
      "metadata": {
        "id": "ABAdD_ngwFRg"
      },
      "outputs": [],
      "source": [
        "# Add a vertex to the set of vertices and the graph\n",
        "def add_vertex(v):\n",
        "  global graph\n",
        "  global vertices_no\n",
        "  global vertices\n",
        "  if v in vertices:\n",
        "    print(\"Vertex \", v, \" already exists\")\n",
        "  else:\n",
        "    vertices_no = vertices_no + 1\n",
        "    vertices.append(v)\n",
        "    if vertices_no > 1:\n",
        "        for vertex in graph:\n",
        "            vertex.append(0)\n",
        "    temp = []\n",
        "    for i in range(vertices_no):\n",
        "        temp.append(0)\n",
        "    graph.append(temp)\n",
        "\n",
        "# Add an edge between vertex v1 and v2 with edge weight e\n",
        "def add_edge(v1, v2, e):\n",
        "    global graph\n",
        "    global vertices_no\n",
        "    global vertices\n",
        "    # Check if vertex v1 is a valid vertex\n",
        "    if v1 not in vertices:\n",
        "        print(\"Vertex \", v1, \" does not exist.\")\n",
        "    # Check if vertex v1 is a valid vertex\n",
        "    elif v2 not in vertices:\n",
        "        print(\"Vertex \", v2, \" does not exist.\")\n",
        "    # Since this code is not restricted to a directed or\n",
        "    # an undirected graph, an edge between v1 v2 does not\n",
        "    # imply that an edge exists between v2 and v1\n",
        "    else:\n",
        "        index1 = vertices.index(v1)\n",
        "        index2 = vertices.index(v2)\n",
        "        graph[index1][index2] = e\n",
        "\n",
        "# Print the graph\n",
        "def print_graph():\n",
        "  global graph\n",
        "  global vertices_no\n",
        "  for i in range(vertices_no):\n",
        "    for j in range(vertices_no):\n",
        "      if graph[i][j] != 0:\n",
        "        print(vertices[i], \" -> \", vertices[j],\n",
        "              \" edge weight: \", graph[i][j])"
      ]
    },
    {
      "cell_type": "code",
      "execution_count": 2,
      "metadata": {
        "id": "912w9tR0wFRh"
      },
      "outputs": [],
      "source": [
        "# stores the vertices in the graph\n",
        "vertices = []\n",
        "# stores the number of vertices in the graph\n",
        "vertices_no = 0\n",
        "graph = []"
      ]
    },
    {
      "cell_type": "markdown",
      "metadata": {
        "id": "lzkib3wYwFRh"
      },
      "source": [
        "<img src=\"https://github.com/robitussin/CCALCOMP_EXERCISES/blob/main/images/directed%20graph2.png?raw=true\"/>"
      ]
    },
    {
      "cell_type": "markdown",
      "metadata": {
        "id": "Qfh-2gbPwFRi"
      },
      "source": [
        "1. Print the edges and vertices of the graph in set representation. (`25 points`)"
      ]
    },
    {
      "cell_type": "code",
      "execution_count": 15,
      "metadata": {
        "id": "FSymqoxmwFRi",
        "outputId": "f5ab1b94-b4b6-4874-c52f-1f7d31a6dc3e",
        "colab": {
          "base_uri": "https://localhost:8080/"
        }
      },
      "outputs": [
        {
          "output_type": "stream",
          "name": "stdout",
          "text": [
            "Vertices: ['A', 'B', 'C', 'D', 'E']\n",
            "Edges: [('A', 'E', 7), ('A', 'D', 60), ('A', 'C', 12), ('B', 'C', 20), ('B', 'A', 10), ('C', 'D', 32), ('C', 'B', 20), ('C', 'A', 12), ('D', 'A', 60), ('D', 'C', 32), ('E', 'A', 7)]\n"
          ]
        }
      ],
      "source": [
        "graph = {\n",
        "    'A': [('E', 7), ('D', 60), ('C', 12)],\n",
        "    'B': [('C', 20), ('A', 10)],\n",
        "    'C': [('D', 32), ('B', 20), ('A', 12)],\n",
        "    'D': [('A', 60), ('C', 32)],\n",
        "    'E': [('A', 7)]\n",
        "}\n",
        "# Vertices\n",
        "vertices = list(graph.keys())\n",
        "print(\"Vertices:\", vertices)\n",
        "\n",
        "# Edges\n",
        "edges = []\n",
        "for vertex, neighbors in graph.items():\n",
        "    for neighbor in neighbors:\n",
        "        edge = (vertex, neighbor[0], neighbor[1])\n",
        "        edges.append(edge)\n",
        "print(\"Edges:\", edges)"
      ]
    },
    {
      "cell_type": "markdown",
      "metadata": {
        "id": "NHt6QEFzwFRi"
      },
      "source": [
        "2. Implement the weighted graph in python code. Use the print_graph() function. (`25 points`)"
      ]
    },
    {
      "cell_type": "code",
      "execution_count": 16,
      "metadata": {
        "id": "fcYP9VF9wFRj",
        "outputId": "706147ee-de18-49a9-8eba-0f378e328387",
        "colab": {
          "base_uri": "https://localhost:8080/"
        }
      },
      "outputs": [
        {
          "output_type": "stream",
          "name": "stdout",
          "text": [
            "Vertices: {'D', 'C', 'B', 'A', 'E'}\n",
            "Edges:\n",
            "A - D = 60\n",
            "A - C = 12\n",
            "A - B = 10\n",
            "B - A = 10\n",
            "C - D = 32\n",
            "C - B = 20\n",
            "C - A = 12\n",
            "D - A = 60\n",
            "E - A = 7\n"
          ]
        }
      ],
      "source": [
        "def print_graph(graph):\n",
        "\n",
        "    print(\"Vertices:\", set(graph.keys()))\n",
        "    print(\"Edges:\")\n",
        "    for vertex, neighbors in graph.items():\n",
        "        for neighbor, weight in neighbors.items():\n",
        "            print(f\"{vertex} - {neighbor} = {weight}\")\n",
        "\n",
        "graph = {\n",
        "    \"A\": {\"D\": 60, \"C\": 12, \"B\": 10},\n",
        "    \"B\": {\"A\": 10},\n",
        "    \"C\": {\"D\": 32, \"B\": 20, \"A\": 12},\n",
        "    \"D\": {\"A\": 60},\n",
        "    \"E\": {\"A\": 7}\n",
        "}\n",
        "\n",
        "print_graph(graph)"
      ]
    },
    {
      "cell_type": "markdown",
      "metadata": {
        "id": "kD-6afNTwFRj"
      },
      "source": [
        "3. (Travelling Salesman Problem)\n",
        "You decided to go on a trip around the philippines. Being a computer scientist, you wanted to find the route that would cost the least amount of money to travel all four cities. Find the route and print the total cost of the optimal route. (`50 points`)\n",
        "\n",
        "(Note: You can start at any origin (e.g. Manila))"
      ]
    },
    {
      "cell_type": "markdown",
      "metadata": {
        "id": "cBHIHSIewFRj"
      },
      "source": [
        "<img src=\"https://github.com/robitussin/CCALCOMP_EXERCISES/blob/main/images/trip.png?raw=true\" width=\"500\" height=\"600\"/>"
      ]
    },
    {
      "cell_type": "code",
      "execution_count": 17,
      "metadata": {
        "id": "yNwmvIXnwFRj",
        "outputId": "092a9e28-52b0-4a97-eb43-ee184863d014",
        "colab": {
          "base_uri": "https://localhost:8080/"
        }
      },
      "outputs": [
        {
          "output_type": "stream",
          "name": "stdout",
          "text": [
            "Optimal Route: Manila -> Tacloban -> Puerto Princesa -> Davao\n",
            "Total Cost: 11500\n"
          ]
        }
      ],
      "source": [
        "from itertools import permutations\n",
        "\n",
        "# Define the cities and costs\n",
        "cities = [\"Manila\", \"Puerto Princesa\", \"Tacloban\", \"Davao\"]\n",
        "cities_costs = {\n",
        "    (\"Manila\", \"Puerto Princesa\"): 8000,\n",
        "    (\"Manila\", \"Davao\"): 5000,\n",
        "    (\"Manila\", \"Tacloban\"): 1000,\n",
        "    (\"Puerto Princesa\", \"Tacloban\"): 1500,\n",
        "    (\"Tacloban\", \"Davao\"): 2000,\n",
        "    (\"Puerto Princesa\", \"Davao\"): 4000\n",
        "}\n",
        "\n",
        "# Function to calculate the total cost of a route\n",
        "def calculate_cost(route):\n",
        "    total_cost = 0\n",
        "    for i in range(len(route) - 1):\n",
        "        if (route[i], route[i + 1]) in cities_costs:\n",
        "            total_cost += cities_costs[(route[i], route[i + 1])]\n",
        "        else:\n",
        "            total_cost += cities_costs[(route[i + 1], route[i])]\n",
        "    # Add the return to the starting city cost\n",
        "    if (route[-1], route[0]) in cities_costs:\n",
        "        total_cost += cities_costs[(route[-1], route[0])]\n",
        "    else:\n",
        "        total_cost += cities_costs[(route[0], route[-1])]\n",
        "    return total_cost\n",
        "\n",
        "# Generate all possible routes\n",
        "all_routes = permutations(cities)\n",
        "\n",
        "# Find the optimal route\n",
        "optimal_route = None\n",
        "min_cost = float('inf')\n",
        "\n",
        "for route in all_routes:\n",
        "    cost = calculate_cost(route)\n",
        "    if cost < min_cost:\n",
        "        min_cost = cost\n",
        "        optimal_route = route\n",
        "\n",
        "# Print the optimal route and its cost\n",
        "print(\"Optimal Route:\", \" -> \".join(optimal_route))\n",
        "print(\"Total Cost:\", min_cost)\n"
      ]
    }
  ],
  "metadata": {
    "kernelspec": {
      "display_name": "base",
      "language": "python",
      "name": "python3"
    },
    "language_info": {
      "codemirror_mode": {
        "name": "ipython",
        "version": 3
      },
      "file_extension": ".py",
      "mimetype": "text/x-python",
      "name": "python",
      "nbconvert_exporter": "python",
      "pygments_lexer": "ipython3",
      "version": "3.9.6"
    },
    "colab": {
      "provenance": []
    }
  },
  "nbformat": 4,
  "nbformat_minor": 0
}